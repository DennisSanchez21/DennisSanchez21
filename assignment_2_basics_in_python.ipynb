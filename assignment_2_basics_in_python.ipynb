{
  "nbformat": 4,
  "nbformat_minor": 0,
  "metadata": {
    "colab": {
      "provenance": [],
      "authorship_tag": "ABX9TyPqwdN9PF52alMqv+DadF7t",
      "include_colab_link": true
    },
    "kernelspec": {
      "name": "python3",
      "display_name": "Python 3"
    },
    "language_info": {
      "name": "python"
    }
  },
  "cells": [
    {
      "cell_type": "markdown",
      "metadata": {
        "id": "view-in-github",
        "colab_type": "text"
      },
      "source": [
        "<a href=\"https://colab.research.google.com/github/DennisSanchez21/DennisSanchez21/blob/main/assignment_2_basics_in_python.ipynb\" target=\"_parent\"><img src=\"https://colab.research.google.com/assets/colab-badge.svg\" alt=\"Open In Colab\"/></a>"
      ]
    },
    {
      "cell_type": "markdown",
      "source": [
        "Assignment 2: Basics in Python\n",
        "\n",
        "Estefany Dennis Sanchez Chavez 2010604\n",
        "\n",
        "AI Thursday N4-N6\n",
        "\n",
        "FIRST EXERCISE: TEXT ANALYSIS TOOL"
      ],
      "metadata": {
        "id": "FLiEHzlrpB4K"
      }
    },
    {
      "cell_type": "code",
      "execution_count": null,
      "metadata": {
        "colab": {
          "base_uri": "https://localhost:8080/"
        },
        "id": "GkeXY3jxo474",
        "outputId": "15ad94ba-eddc-4a41-e7ff-38828dd5ed8a"
      },
      "outputs": [
        {
          "output_type": "stream",
          "name": "stderr",
          "text": [
            "[nltk_data] Downloading package punkt to /root/nltk_data...\n",
            "[nltk_data]   Unzipping tokenizers/punkt.zip.\n",
            "[nltk_data] Downloading package stopwords to /root/nltk_data...\n",
            "[nltk_data]   Unzipping corpora/stopwords.zip.\n"
          ]
        },
        {
          "output_type": "stream",
          "name": "stdout",
          "text": [
            "Introduce the text to analysis: Once upon a time\n",
            "\n",
            "Text Analysis:\n",
            "Total of words: 2\n",
            "Total of unique words: 2\n",
            "The most common word: upon whit 1 appears.\n"
          ]
        }
      ],
      "source": [
        "import nltk\n",
        "from nltk.tokenize import word_tokenize\n",
        "from nltk.corpus import stopwords\n",
        "from collections import Counter\n",
        "\n",
        "nltk.download('punkt')\n",
        "nltk.download('stopwords')\n",
        "\n",
        "def text_analysis(text):\n",
        "    tokens = word_tokenize(text.lower())\n",
        "\n",
        "    # Empty words elimination (stop words)\n",
        "    stop_words = set(stopwords.words('english'))\n",
        "    filtered_tokens = [word for word in tokens if word.isalnum() and word not in stop_words]\n",
        "\n",
        "    # word frequence counter\n",
        "    word_freq = Counter(filtered_tokens)\n",
        "\n",
        "    # most common word\n",
        "    most_common_word = word_freq.most_common(1)[0]\n",
        "\n",
        "    # total number of words\n",
        "    total_words = sum(word_freq.values())\n",
        "\n",
        "    # number of unique words\n",
        "    unique_words = len(word_freq)\n",
        "\n",
        "    return {\n",
        "        \"total_words\": total_words,\n",
        "        \"unique_words\": unique_words,\n",
        "        \"most_common_word\": most_common_word\n",
        "    }\n",
        "\n",
        "if __name__ == \"__main__\":\n",
        "    text = input(\"Introduce the text to analysis: \")\n",
        "    analysis_result = text_analysis(text)\n",
        "    print(\"\\nText Analysis:\")\n",
        "    print(\"Total of words:\", analysis_result[\"total_words\"])\n",
        "    print(\"Total of unique words:\", analysis_result[\"unique_words\"])\n",
        "    print(\"The most common word:\", analysis_result[\"most_common_word\"][0], \"whit\", analysis_result[\"most_common_word\"][1], \"appears.\")\n"
      ]
    },
    {
      "cell_type": "markdown",
      "source": [
        "SECOND EXERCISE: HANGMAN GAME"
      ],
      "metadata": {
        "id": "_TI87LtlpbRF"
      }
    },
    {
      "cell_type": "code",
      "source": [
        "import random\n",
        "\n",
        "def choose_word():\n",
        "    words = [\"game\", \"password\", \"flower\", \"grape\", \"pineapple\", \"watermelon\", \"strawberry\", \"blueberry\", \"kiwi\", \"peach\"]\n",
        "    return random.choice(words)\n",
        "\n",
        "def display_word(word, guessed_letters):\n",
        "    displayed_word = \"\"\n",
        "    for letter in word:\n",
        "        if letter in guessed_letters:\n",
        "            displayed_word += letter\n",
        "        else:\n",
        "            displayed_word += \"_\"\n",
        "    return displayed_word\n",
        "\n",
        "def hangman():\n",
        "    print(\"Welcome to Hangman!\")\n",
        "    secret_word = choose_word()\n",
        "    guessed_letters = []\n",
        "    attempts = 6\n",
        "\n",
        "    while True:\n",
        "        print(\"\\nAttempts left:\", attempts)\n",
        "        print(\"Word:\", display_word(secret_word, guessed_letters))\n",
        "\n",
        "        if \"_\" not in display_word(secret_word, guessed_letters):\n",
        "            print(\"Congratulations! You guessed the word:\", secret_word)\n",
        "            break\n",
        "\n",
        "        if attempts == 0:\n",
        "            print(\"You ran out of attempts! The word was:\", secret_word)\n",
        "            break\n",
        "\n",
        "        guess = input(\"Guess a letter: \").lower()\n",
        "\n",
        "        if guess in guessed_letters:\n",
        "            print(\"You've already guessed that letter.\")\n",
        "        elif guess in secret_word:\n",
        "            print(\"Good guess!\")\n",
        "            guessed_letters.append(guess)\n",
        "        else:\n",
        "            print(\"Incorrect guess!\")\n",
        "            guessed_letters.append(guess)\n",
        "            attempts -= 1\n",
        "\n",
        "if __name__ == \"__main__\":\n",
        "    hangman()\n"
      ],
      "metadata": {
        "colab": {
          "base_uri": "https://localhost:8080/"
        },
        "id": "kBDD3NvZpdZJ",
        "outputId": "94086d2d-459c-4c10-ac0f-4593562052e4"
      },
      "execution_count": null,
      "outputs": [
        {
          "output_type": "stream",
          "name": "stdout",
          "text": [
            "Welcome to Hangman!\n",
            "\n",
            "Attempts left: 6\n",
            "Word: __________\n",
            "Guess a letter: p\n",
            "Incorrect guess!\n",
            "\n",
            "Attempts left: 5\n",
            "Word: __________\n",
            "Guess a letter: n\n",
            "Good guess!\n",
            "\n",
            "Attempts left: 5\n",
            "Word: _________n\n",
            "Guess a letter: a\n",
            "Good guess!\n",
            "\n",
            "Attempts left: 5\n",
            "Word: _a_______n\n",
            "Guess a letter: t\n",
            "Good guess!\n",
            "\n",
            "Attempts left: 5\n",
            "Word: _at______n\n",
            "Guess a letter: r\n",
            "Good guess!\n",
            "\n",
            "Attempts left: 5\n",
            "Word: _at_r____n\n",
            "Guess a letter: m\n",
            "Good guess!\n",
            "\n",
            "Attempts left: 5\n",
            "Word: _at_rm___n\n",
            "Guess a letter: e\n",
            "Good guess!\n",
            "\n",
            "Attempts left: 5\n",
            "Word: _aterme__n\n",
            "Guess a letter: l\n",
            "Good guess!\n",
            "\n",
            "Attempts left: 5\n",
            "Word: _atermel_n\n",
            "Guess a letter: w\n",
            "Good guess!\n",
            "\n",
            "Attempts left: 5\n",
            "Word: watermel_n\n",
            "Guess a letter: o\n",
            "Good guess!\n",
            "\n",
            "Attempts left: 5\n",
            "Word: watermelon\n",
            "Congratulations! You guessed the word: watermelon\n"
          ]
        }
      ]
    },
    {
      "cell_type": "markdown",
      "source": [
        "THIRD EXERCISE: NUMBER GUESSING GAME\n",
        "\n"
      ],
      "metadata": {
        "id": "bJ1T2PW0p0FH"
      }
    },
    {
      "cell_type": "code",
      "source": [
        "import random\n",
        "\n",
        "def guess_the_number():\n",
        "    target_number = random.randint(1, 100)\n",
        "    attempts = 0\n",
        "\n",
        "    print(\"Welcome to Guess the Number!\")\n",
        "\n",
        "    while True:\n",
        "        guess = input(\"Guess the number (between 1 and 100): \")\n",
        "\n",
        "        try:\n",
        "            guess = int(guess)\n",
        "        except ValueError:\n",
        "            print(\"Please enter number.\")\n",
        "            continue\n",
        "\n",
        "        attempts += 1\n",
        "\n",
        "        if guess < target_number:\n",
        "            print(\"higher.\")\n",
        "        elif guess > target_number:\n",
        "            print(\"lower.\")\n",
        "        else:\n",
        "            print(f\"Congratulations! You guessed the number {target_number} in {attempts} attempts.\")\n",
        "            break\n",
        "\n",
        "if __name__ == \"__main__\":\n",
        "    guess_the_number()\n"
      ],
      "metadata": {
        "colab": {
          "base_uri": "https://localhost:8080/"
        },
        "id": "wlNr8fo-p4lO",
        "outputId": "23bd3600-5154-4dd1-fc24-778017253c37"
      },
      "execution_count": null,
      "outputs": [
        {
          "output_type": "stream",
          "name": "stdout",
          "text": [
            "Welcome to Guess the Number!\n",
            "Guess the number (between 1 and 100): 50\n",
            "lower.\n",
            "Guess the number (between 1 and 100): 49\n",
            "lower.\n",
            "Guess the number (between 1 and 100): 45\n",
            "lower.\n",
            "Guess the number (between 1 and 100): 40\n",
            "lower.\n",
            "Guess the number (between 1 and 100): 39\n",
            "lower.\n",
            "Guess the number (between 1 and 100): 35\n",
            "lower.\n",
            "Guess the number (between 1 and 100): 32\n",
            "lower.\n",
            "Guess the number (between 1 and 100): 30\n",
            "lower.\n",
            "Guess the number (between 1 and 100): 28\n",
            "lower.\n",
            "Guess the number (between 1 and 100): 25\n",
            "lower.\n",
            "Guess the number (between 1 and 100): 20\n",
            "lower.\n",
            "Guess the number (between 1 and 100): 19\n",
            "lower.\n",
            "Guess the number (between 1 and 100): 10\n",
            "higher.\n",
            "Guess the number (between 1 and 100): 15\n",
            "Congratulations! You guessed the number 15 in 14 attempts.\n"
          ]
        }
      ]
    }
  ]
}